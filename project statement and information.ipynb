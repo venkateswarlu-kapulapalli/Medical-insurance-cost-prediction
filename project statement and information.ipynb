{
 "cells": [
  {
   "cell_type": "markdown",
   "id": "85463dbd",
   "metadata": {},
   "source": [
    "## Medical Insurance cost Prediction"
   ]
  },
  {
   "cell_type": "markdown",
   "id": "d6a6f384",
   "metadata": {},
   "source": [
    "The dataset has medical insurance cost of customer in United states ,we will predict customer medical insurance cost using data analysis,data preprocessing and Linear regression alogrithm "
   ]
  },
  {
   "cell_type": "markdown",
   "id": "45865f54",
   "metadata": {},
   "source": [
    "### table contents"
   ]
  },
  {
   "cell_type": "markdown",
   "id": "c7d848b4",
   "metadata": {},
   "source": [
    "Columns\n",
    "\n",
    "* age: age of primary beneficiary<br>\n",
    "\n",
    "* sex: insurance contractor gender, female, male<br>\n",
    "\n",
    "* bmi: Body mass index, providing an understanding of body, weights that are relatively high or low relative to height,\n",
    "  objective index of body weight (kg / m ^ 2) using the ratio of height to weight, ideally 18.5 to 24.9<br>\n",
    "\n",
    "* children: Number of children covered by health insurance / Number of dependents<br>\n",
    "\n",
    "* smoker: Smoking<br>\n",
    "\n",
    "* region: the beneficiary's residential area in the US, northeast, southeast, southwest, northwest.<br>\n",
    "\n",
    "* charges: Individual medical costs billed by health insurance<br>\n",
    "\n"
   ]
  },
  {
   "cell_type": "code",
   "execution_count": null,
   "id": "a9b53d00",
   "metadata": {},
   "outputs": [],
   "source": []
  }
 ],
 "metadata": {
  "kernelspec": {
   "display_name": "Python 3 (ipykernel)",
   "language": "python",
   "name": "python3"
  },
  "language_info": {
   "codemirror_mode": {
    "name": "ipython",
    "version": 3
   },
   "file_extension": ".py",
   "mimetype": "text/x-python",
   "name": "python",
   "nbconvert_exporter": "python",
   "pygments_lexer": "ipython3",
   "version": "3.9.7"
  }
 },
 "nbformat": 4,
 "nbformat_minor": 5
}
